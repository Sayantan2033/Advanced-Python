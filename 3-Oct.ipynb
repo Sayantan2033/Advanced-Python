{
 "cells": [
  {
   "cell_type": "markdown",
   "metadata": {},
   "source": [
    "# Advanced Python\n",
    "\n",
    "# Class and  object"
   ]
  },
  {
   "cell_type": "raw",
   "metadata": {},
   "source": [
    "Self: Represents the instance of the class where you can access the methods and attributes of the class.\n",
    "\n",
    "_init_\n",
    "\n",
    "Reserved class in python. It is known as a constructor in object oriented concepts. \n",
    "\n",
    "This method called when an object is created from the class and it allow the class to initialize the attributes of a class.\n",
    "\n",
    "Example:\n",
    "\n",
    "class Car(object):\n",
    "  \"\"\"\n",
    "    blueprint for car\n",
    "  \"\"\"\n",
    "\n",
    "  def __init__(self, model, color, company, speed_limit):\n",
    "    self.color = color\n",
    "    self.company = company\n",
    "    self.speed_limit = speed_limit\n",
    "    self.model = model\n",
    "\n",
    "  def start(self):\n",
    "    print(\"started\")\n",
    "\n",
    "  def stop(self):\n",
    "    print(\"stopped\")\n",
    "\n",
    "  def accelarate(self):\n",
    "    print(\"accelarating...\")\n",
    "    \"accelarator functionality here\"\n",
    "\n",
    "  def change_gear(self, gear_type):\n",
    "    print(\"gear changed\")\n",
    "    \" gear related functionality here\"\n",
    "    \n",
    "maruthi_suzuki = Car(\"ertiga\", \"black\", \"suzuki\", 60)\n",
    "audi = Car(\"A6\", \"red\", \"audi\", 80)"
   ]
  },
  {
   "cell_type": "code",
   "execution_count": 5,
   "metadata": {},
   "outputs": [
    {
     "name": "stdout",
     "output_type": "stream",
     "text": [
      "Sayantan 21 170cm 64kg\n",
      "Sayantan\n",
      "21\n",
      "170cm\n",
      "64kg\n"
     ]
    }
   ],
   "source": [
    "class person:\n",
    "    def __init__(self,name,age,height,weight):\n",
    "        self.name = name\n",
    "        self.age =  age\n",
    "        self.height = height\n",
    "        self.weight = weight\n",
    "    def print_details(self):\n",
    "        print(self.name,self.age,self.height,self.weight)\n",
    "        \n",
    "obj = person(\"Sayantan\",\"21\",\"170cm\",\"64kg\")\n",
    "obj.print_details()\n",
    "\n",
    "print(obj.name)\n",
    "print(obj.age)\n",
    "print(obj.height)\n",
    "print(obj.weight)"
   ]
  },
  {
   "cell_type": "code",
   "execution_count": null,
   "metadata": {},
   "outputs": [],
   "source": []
  }
 ],
 "metadata": {
  "kernelspec": {
   "display_name": "Python 3",
   "language": "python",
   "name": "python3"
  },
  "language_info": {
   "codemirror_mode": {
    "name": "ipython",
    "version": 3
   },
   "file_extension": ".py",
   "mimetype": "text/x-python",
   "name": "python",
   "nbconvert_exporter": "python",
   "pygments_lexer": "ipython3",
   "version": "3.7.3"
  }
 },
 "nbformat": 4,
 "nbformat_minor": 2
}
