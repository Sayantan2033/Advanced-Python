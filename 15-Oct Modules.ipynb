{
 "cells": [
  {
   "cell_type": "markdown",
   "metadata": {},
   "source": [
    "# Module"
   ]
  },
  {
   "cell_type": "code",
   "execution_count": 2,
   "metadata": {},
   "outputs": [
    {
     "name": "stdout",
     "output_type": "stream",
     "text": [
      "\n",
      "Please wait a moment while I gather a list of all available modules...\n",
      "\n"
     ]
    },
    {
     "name": "stderr",
     "output_type": "stream",
     "text": [
      "C:\\Users\\msi1\\Anaconda3\\lib\\site-packages\\IPython\\kernel\\__init__.py:13: ShimWarning: The `IPython.kernel` package has been deprecated since IPython 4.0.You should import from ipykernel or jupyter_client instead.\n",
      "  \"You should import from ipykernel or jupyter_client instead.\", ShimWarning)\n",
      "WARNING: AstropyDeprecationWarning: astropy.utils.compat.futures is now deprecated - use concurrent.futures instead [astropy.utils.compat.futures]\n",
      "C:\\Users\\msi1\\Anaconda3\\lib\\site-packages\\nltk\\twitter\\__init__.py:22: UserWarning: The twython library has not been installed. Some functionality from the twitter package will not be available.\n",
      "  \"The twython library has not been installed. \"\n"
     ]
    },
    {
     "name": "stdout",
     "output_type": "stream",
     "text": [
      "DEBUG:pip._internal.vcs:Registered VCS backend: git\n",
      "DEBUG:pip._internal.vcs:Registered VCS backend: hg\n",
      "DEBUG:pip._internal.vcs:Registered VCS backend: svn\n",
      "DEBUG:pip._internal.vcs:Registered VCS backend: bzr\n"
     ]
    },
    {
     "name": "stderr",
     "output_type": "stream",
     "text": [
      "C:\\Users\\msi1\\Anaconda3\\lib\\site-packages\\skimage\\novice\\__init__.py:103: UserWarning: The `skimage.novice` module was deprecated in version 0.14. It will be removed in 0.16.\n",
      "  warnings.warn(\"The `skimage.novice` module was deprecated in version 0.14. \"\n",
      "C:\\Users\\msi1\\Anaconda3\\lib\\site-packages\\skimage\\viewer\\utils\\core.py:10: UserWarning: Recommended matplotlib backend is `Agg` for full skimage.viewer functionality.\n",
      "  warn(\"Recommended matplotlib backend is `Agg` for full \"\n",
      "C:\\Users\\msi1\\Anaconda3\\lib\\site-packages\\sklearn\\externals\\joblib\\__init__.py:15: DeprecationWarning: sklearn.externals.joblib is deprecated in 0.21 and will be removed in 0.23. Please import this functionality directly from joblib, which can be installed with: pip install joblib. If this warning is raised when loading pickled models, you may need to re-serialize those models with scikit-learn 0.21+.\n",
      "  warnings.warn(msg, category=DeprecationWarning)\n",
      "C:\\Users\\msi1\\Anaconda3\\lib\\site-packages\\qtawesome\\iconic_font.py:276: UserWarning: You need to have a running QApplication to use QtAwesome!\n",
      "  warnings.warn(\"You need to have a running \"\n",
      "C:\\Users\\msi1\\Anaconda3\\lib\\pkgutil.py:107: VisibleDeprecationWarning: zmq.eventloop.minitornado is deprecated in pyzmq 14.0 and will be removed.\n",
      "    Install tornado itself to use zmq with the tornado IOLoop.\n",
      "    \n",
      "  yield from walk_packages(path, info.name+'.', onerror)\n"
     ]
    },
    {
     "name": "stdout",
     "output_type": "stream",
     "text": [
      "Crypto              builtins            menuinst            sockshandler\n",
      "Cython              bz2                 mimetypes           sortedcollections\n",
      "IPython             cProfile            mistune             sortedcontainers\n",
      "OpenSSL             calendar            mkl                 soupsieve\n",
      "PIL                 certifi             mkl_fft             sphinx\n",
      "PyQt5               cffi                mkl_random          sphinxcontrib\n",
      "__future__          cgi                 mmap                spyder\n",
      "_abc                cgitb               mmapfile            spyder_breakpoints\n",
      "_ast                chardet             mmsystem            spyder_io_dcm\n",
      "_asyncio            chunk               mock                spyder_io_hdf5\n",
      "_bisect             click               modulefinder        spyder_kernels\n",
      "_blake2             cloudpickle         more_itertools      spyder_profiler\n",
      "_bootlocale         clyent              mpmath              spyder_pylint\n",
      "_bz2                cmath               msgpack             sqlalchemy\n",
      "_cffi_backend       cmd                 msilib              sqlite3\n",
      "_codecs             code                msvcrt              sre_compile\n",
      "_codecs_cn          codecs              multipledispatch    sre_constants\n",
      "_codecs_hk          codeop              multiprocessing     sre_parse\n",
      "_codecs_iso2022     collections         navigator_updater   ssl\n",
      "_codecs_jp          colorama            nbconvert           sspi\n",
      "_codecs_kr          colorsys            nbformat            sspicon\n",
      "_codecs_tw          commctrl            netbios             stat\n",
      "_collections        compileall          netrc               statistics\n",
      "_collections_abc    comtypes            networkx            statsmodels\n",
      "_compat_pickle      concurrent          nltk                storemagic\n",
      "_compression        conda               nntplib             string\n",
      "_contextvars        conda_build         nose                stringprep\n",
      "_csv                conda_env           notebook            struct\n",
      "_ctypes             conda_package_handling nt                  subprocess\n",
      "_ctypes_test        conda_verify        ntpath              sunau\n",
      "_datetime           configparser        ntsecuritycon       symbol\n",
      "_decimal            contextlib          nturl2path          sympy\n",
      "_dummy_thread       contextlib2         numba               sympyprinting\n",
      "_elementtree        contextvars         numbers             symtable\n",
      "_functools          copy                numexpr             sys\n",
      "_hashlib            copyreg             numpy               sysconfig\n",
      "_heapq              crypt               numpydoc            tables\n",
      "_imp                cryptography        odbc                tabnanny\n",
      "_io                 csv                 olefile             tarfile\n",
      "_json               ctypes              opcode              tblib\n",
      "_locale             curl                openpyxl            telnetlib\n",
      "_lsprof             curses              operator            tempfile\n",
      "_lzma               cwp                 optparse            terminado\n",
      "_markupbase         cycler              os                  test\n",
      "_md5                cython              packaging           test_data\n",
      "_msi                cythonmagic         pandas              test_pycosat\n",
      "_multibytecodec     cytoolz             pandocfilters       testpath\n",
      "_multiprocessing    dask                parser              tests\n",
      "_nsis               dataclasses         parso               textwrap\n",
      "_opcode             datetime            partd               this\n",
      "_operator           dateutil            past                threading\n",
      "_osx_support        dbi                 path                time\n",
      "_overlapped         dbm                 pathlib             timeit\n",
      "_pickle             dde                 pathlib2            timer\n",
      "_py_abc             decimal             patsy               tkinter\n",
      "_pydecimal          decorator           pdb                 tlz\n",
      "_pyio               defusedxml          pep8                token\n",
      "_pylief             difflib             perfmon             tokenize\n",
      "_pyrsistent_version dis                 pickle              toolz\n",
      "_pytest             distributed         pickleshare         tornado\n",
      "_queue              distutils           pickletools         tqdm\n",
      "_random             doctest             pip                 trace\n",
      "_sha1               docutils            pipes               traceback\n",
      "_sha256             dummy_threading     pkg_resources       tracemalloc\n",
      "_sha3               easy_install        pkginfo             traitlets\n",
      "_sha512             email               pkgutil             tty\n",
      "_signal             encodings           platform            turtle\n",
      "_sitebuiltins       ensurepip           plistlib            turtledemo\n",
      "_socket             entrypoints         pluggy              types\n",
      "_sqlite3            enum                ply                 typing\n",
      "_sre                errno               poplib              unicodecsv\n",
      "_ssl                et_xmlfile          posixpath           unicodedata\n",
      "_stat               fastcache           pprint              unittest\n",
      "_string             faulthandler        profile             urllib\n",
      "_strptime           filecmp             prometheus_client   urllib3\n",
      "_struct             fileinput           prompt_toolkit      uu\n",
      "_symtable           filelock            pstats              uuid\n",
      "_system_path        flask               psutil              venv\n",
      "_testbuffer         fnmatch             pty                 warnings\n",
      "_testcapi           formatter           pvectorc            wave\n",
      "_testconsole        fractions           py                  wcwidth\n",
      "_testimportmultiple ftplib              py_compile          weakref\n",
      "_testmultiphase     functools           pyclbr              webbrowser\n",
      "_thread             future              pycodestyle         webencodings\n",
      "_threading_local    gc                  pycosat             werkzeug\n",
      "_tkinter            genericpath         pycparser           wheel\n",
      "_tracemalloc        getopt              pycurl              widgetsnbextension\n",
      "_warnings           getpass             pydoc               win2kras\n",
      "_weakref            gettext             pydoc_data          win32api\n",
      "_weakrefset         gevent              pyexpat             win32clipboard\n",
      "_win32sysloader     glob                pyflakes            win32com\n",
      "_winapi             glob2               pygments            win32con\n",
      "_winxptheme         greenlet            pylab               win32console\n",
      "_yaml               gzip                pylint              win32cred\n",
      "abc                 h5py                pyodbc              win32crypt\n",
      "adodbapi            hashlib             pyparsing           win32cryptcon\n",
      "afxres              heapdict            pyreadline          win32event\n",
      "aifc                heapq               pyrsistent          win32evtlog\n",
      "alabaster           hmac                pytest              win32evtlogutil\n",
      "anaconda_navigator  html                pytest_arraydiff    win32file\n",
      "anaconda_project    html5lib            pytest_doctestplus  win32gui\n",
      "antigravity         http                pytest_openfiles    win32gui_struct\n",
      "argparse            idlelib             pytest_remotedata   win32help\n",
      "array               idna                pythoncom           win32inet\n",
      "asn1crypto          imageio             pytz                win32inetcon\n",
      "ast                 imagesize           pywin               win32job\n",
      "astroid             imaplib             pywin32_testutil    win32lz\n",
      "astropy             imghdr              pywintypes          win32net\n",
      "asynchat            imp                 pywt                win32netcon\n",
      "asyncio             importlib           pyximport           win32pdh\n",
      "asyncore            importlib_metadata  qtawesome           win32pdhquery\n",
      "atexit              inspect             qtconsole           win32pdhutil\n",
      "atomicwrites        io                  qtpy                win32pipe\n",
      "attr                ipaddress           queue               win32print\n",
      "audioop             ipykernel           quopri              win32process\n",
      "autoreload          ipykernel_launcher  random              win32profile\n",
      "babel               ipython_genutils    rasutil             win32ras\n"
     ]
    },
    {
     "name": "stdout",
     "output_type": "stream",
     "text": [
      "backcall            ipywidgets          re                  win32rcparser\n",
      "backports           isapi               readline            win32security\n",
      "base64              isort               regcheck            win32service\n",
      "bdb                 isympy              regutil             win32serviceutil\n",
      "binascii            itertools           reprlib             win32timezone\n",
      "binhex              itsdangerous        requests            win32trace\n",
      "binstar_client      jdcal               rlcompleter         win32traceutil\n",
      "bisect              jedi                rmagic              win32transaction\n",
      "bitarray            jinja2              rope                win32ts\n",
      "bkcharts            joblib              ruamel_yaml         win32ui\n",
      "bleach              json                run                 win32uiole\n",
      "bokeh               json5               runpy               win32verstamp\n",
      "boto                jsonschema          sched               win32wnet\n",
      "bottleneck          jupyter             scipy               win_inet_pton\n",
      "brain_argparse      jupyter_client      scripts             win_unicode_console\n",
      "brain_attrs         jupyter_console     seaborn             wincertstore\n",
      "brain_builtin_inference jupyter_core        secrets             winerror\n",
      "brain_collections   jupyterlab          select              winioctlcon\n",
      "brain_curses        jupyterlab_server   selectors           winnt\n",
      "brain_dateutil      keyring             send2trash          winperf\n",
      "brain_fstrings      keyword             servicemanager      winpty\n",
      "brain_functools     kiwisolver          setuptools          winreg\n",
      "brain_gi            lazy_object_proxy   shelve              winsound\n",
      "brain_hashlib       lib2to3             shlex               winxpgui\n",
      "brain_http          libarchive          shutil              winxptheme\n",
      "brain_io            libfuturize         signal              wrapt\n",
      "brain_mechanize     libpasteurize       simplegeneric       wsgiref\n",
      "brain_multiprocessing lief                singledispatch      xdrlib\n",
      "brain_namedtuple_enum linecache           singledispatch_helpers xlrd\n",
      "brain_nose          llvmlite            sip                 xlsxwriter\n",
      "brain_numpy         locale              sipconfig           xlwings\n",
      "brain_pkg_resources locket              sipdistutils        xlwt\n",
      "brain_pytest        logging             site                xml\n",
      "brain_qt            lxml                six                 xmlrpc\n",
      "brain_random        lzma                skimage             xxsubtype\n",
      "brain_re            macpath             sklearn             yaml\n",
      "brain_six           mailbox             smtpd               zict\n",
      "brain_ssl           mailcap             smtplib             zipapp\n",
      "brain_subprocess    markupsafe          sndhdr              zipfile\n",
      "brain_threading     marshal             snowballstemmer     zipimport\n",
      "brain_typing        math                socket              zipp\n",
      "brain_uuid          matplotlib          socketserver        zlib\n",
      "bs4                 mccabe              socks               zmq\n",
      "\n",
      "Enter any module name to get more help.  Or, type \"modules spam\" to search\n",
      "for modules whose name or summary contain the string \"spam\".\n",
      "\n",
      "DEBUG:matplotlib.pyplot:Loaded backend module://ipykernel.pylab.backend_inline version unknown.\n"
     ]
    }
   ],
   "source": [
    "help('modules')"
   ]
  },
  {
   "cell_type": "raw",
   "metadata": {},
   "source": [
    "Random\n",
    "\n",
    "Types of random module:\n",
    "1. random.random\n",
    "2. random.randint\n",
    "3. random.choice(tuple)\n",
    "4. random.randomerange()\n",
    "5. random."
   ]
  },
  {
   "cell_type": "code",
   "execution_count": 15,
   "metadata": {},
   "outputs": [
    {
     "name": "stdout",
     "output_type": "stream",
     "text": [
      "0.9220629519392847\n",
      "30\n",
      "69\n",
      "80\n",
      "n\n",
      "2\n",
      "[45, 1, 33, 765, 1324, 2]\n"
     ]
    }
   ],
   "source": [
    "import random\n",
    "\n",
    "print(random.random())\n",
    "print(random.randint(1,100))\n",
    "print(random.randrange(1,100,2))\n",
    "print(random.randrange(0,101,10))\n",
    "print(random.choice(\"Talon\"))\n",
    "print(random.choice([1,2,3,4,5,6]))\n",
    "\n",
    "numbers = [1,2,33,45,765,1324]\n",
    "random.shuffle(numbers)\n",
    "print(numbers)"
   ]
  },
  {
   "cell_type": "markdown",
   "metadata": {},
   "source": [
    "# Math module"
   ]
  },
  {
   "cell_type": "code",
   "execution_count": 33,
   "metadata": {},
   "outputs": [
    {
     "name": "stdout",
     "output_type": "stream",
     "text": [
      "3.141592653589793\n",
      "2.718281828459045\n",
      "1.0471975511965976\n",
      "29.999999999999996\n",
      "100.0\n",
      "5\n",
      "6\n",
      "10077696.0\n",
      "22026.465794806703\n",
      "2.0\n",
      "0.49999999999999994\n",
      "0.8660254037844387\n",
      "1.633123935319537e+16\n"
     ]
    }
   ],
   "source": [
    "import math\n",
    "print(math.pi) #value of pi\n",
    "print(math.e) #euler's number\n",
    "print(math.radians(60)) #convert degree to radians\n",
    "print(math.degrees(math.pi/6)) #vice versa\n",
    "print(math.sqrt(10000))\n",
    "print(math.ceil(4.12))\n",
    "print(math.floor(6.78))\n",
    "print(math.pow(6,9))\n",
    "print(math.e**10) #fixed value\n",
    "print(math.log10(100))\n",
    "\n",
    "print(math.sin(math.pi/6)) #accepts radian value\n",
    "print(math.cos(math.pi/6))\n",
    "print(math.tan(math.pi/2))"
   ]
  },
  {
   "cell_type": "markdown",
   "metadata": {},
   "source": [
    "# Sys module"
   ]
  },
  {
   "cell_type": "code",
   "execution_count": 35,
   "metadata": {},
   "outputs": [
    {
     "name": "stdout",
     "output_type": "stream",
     "text": [
      "9223372036854775807\n"
     ]
    }
   ],
   "source": [
    "import sys\n",
    "\n",
    "print(sys.maxsize)"
   ]
  },
  {
   "cell_type": "code",
   "execution_count": 36,
   "metadata": {},
   "outputs": [
    {
     "data": {
      "text/plain": [
       "['C:\\\\Users\\\\msi1\\\\Anaconda3\\\\lib\\\\site-packages\\\\spyder\\\\utils\\\\help',\n",
       " 'C:\\\\Users\\\\msi1\\\\Desktop\\\\Python\\\\Advanced Python',\n",
       " 'C:\\\\Users\\\\msi1\\\\Anaconda3\\\\python37.zip',\n",
       " 'C:\\\\Users\\\\msi1\\\\Anaconda3\\\\DLLs',\n",
       " 'C:\\\\Users\\\\msi1\\\\Anaconda3\\\\lib',\n",
       " 'C:\\\\Users\\\\msi1\\\\Anaconda3',\n",
       " '',\n",
       " 'C:\\\\Users\\\\msi1\\\\Anaconda3\\\\lib\\\\site-packages',\n",
       " 'C:\\\\Users\\\\msi1\\\\Anaconda3\\\\lib\\\\site-packages\\\\win32',\n",
       " 'C:\\\\Users\\\\msi1\\\\Anaconda3\\\\lib\\\\site-packages\\\\win32\\\\lib',\n",
       " 'C:\\\\Users\\\\msi1\\\\Anaconda3\\\\lib\\\\site-packages\\\\Pythonwin',\n",
       " 'C:\\\\Users\\\\msi1\\\\Anaconda3\\\\lib\\\\site-packages\\\\IPython\\\\extensions',\n",
       " 'C:\\\\Users\\\\msi1\\\\.ipython',\n",
       " 'C:\\\\Users\\\\msi1\\\\Anaconda3\\\\lib\\\\site-packages\\\\astroid\\\\brain']"
      ]
     },
     "execution_count": 36,
     "metadata": {},
     "output_type": "execute_result"
    }
   ],
   "source": [
    "sys.path"
   ]
  },
  {
   "cell_type": "code",
   "execution_count": 37,
   "metadata": {},
   "outputs": [
    {
     "data": {
      "text/plain": [
       "'3.7.3 (default, Apr 24 2019, 15:29:51) [MSC v.1915 64 bit (AMD64)]'"
      ]
     },
     "execution_count": 37,
     "metadata": {},
     "output_type": "execute_result"
    }
   ],
   "source": [
    "sys.version"
   ]
  },
  {
   "cell_type": "markdown",
   "metadata": {},
   "source": [
    "# OS Module"
   ]
  },
  {
   "cell_type": "code",
   "execution_count": 39,
   "metadata": {},
   "outputs": [],
   "source": [
    "import os\n",
    "os.mkdir(\"c:\\\\python_test\")"
   ]
  },
  {
   "cell_type": "code",
   "execution_count": 41,
   "metadata": {},
   "outputs": [],
   "source": [
    "os.chdir(\"c:\\\\python_test\")"
   ]
  },
  {
   "cell_type": "code",
   "execution_count": 42,
   "metadata": {},
   "outputs": [
    {
     "data": {
      "text/plain": [
       "'c:\\\\python_test'"
      ]
     },
     "execution_count": 42,
     "metadata": {},
     "output_type": "execute_result"
    }
   ],
   "source": [
    "os.getcwd()"
   ]
  },
  {
   "cell_type": "code",
   "execution_count": 45,
   "metadata": {},
   "outputs": [],
   "source": [
    "os.mkdir(\"c:\\\\python_test_2\")\n",
    "os.chdir(\"c:\\\\python_test_2\")\n",
    "\n",
    "os.rmdir(\"c:\\\\python_test\")"
   ]
  },
  {
   "cell_type": "code",
   "execution_count": 46,
   "metadata": {},
   "outputs": [
    {
     "data": {
      "text/plain": [
       "['$Recycle.Bin',\n",
       " 'Documents and Settings',\n",
       " 'hiberfil.sys',\n",
       " 'Intel',\n",
       " 'pagefile.sys',\n",
       " 'PerfLogs',\n",
       " 'Program Files',\n",
       " 'Program Files (x86)',\n",
       " 'ProgramData',\n",
       " 'python_test_2',\n",
       " 'Recovery',\n",
       " 'Riot Games',\n",
       " 'swapfile.sys',\n",
       " 'System Volume Information',\n",
       " 'Users',\n",
       " 'Windows']"
      ]
     },
     "execution_count": 46,
     "metadata": {},
     "output_type": "execute_result"
    }
   ],
   "source": [
    "os.listdir(\"c:\\\\\") #lists all files and folders in the directory"
   ]
  },
  {
   "cell_type": "markdown",
   "metadata": {},
   "source": [
    "# Module attributes"
   ]
  },
  {
   "cell_type": "code",
   "execution_count": 47,
   "metadata": {},
   "outputs": [
    {
     "name": "stdout",
     "output_type": "stream",
     "text": [
      "math\n"
     ]
    }
   ],
   "source": [
    "import math\n",
    "\n",
    "print(math.__name__)"
   ]
  },
  {
   "cell_type": "code",
   "execution_count": 48,
   "metadata": {},
   "outputs": [
    {
     "name": "stdout",
     "output_type": "stream",
     "text": [
      "This module is always available.  It provides access to the\n",
      "mathematical functions defined by the C standard.\n"
     ]
    }
   ],
   "source": [
    "print(math.__doc__)"
   ]
  },
  {
   "cell_type": "code",
   "execution_count": 50,
   "metadata": {},
   "outputs": [
    {
     "name": "stdout",
     "output_type": "stream",
     "text": [
      "The io module provides the Python interfaces to stream handling. The\n",
      "builtin open function is defined in this module.\n",
      "\n",
      "At the top of the I/O hierarchy is the abstract base class IOBase. It\n",
      "defines the basic interface to a stream. Note, however, that there is no\n",
      "separation between reading and writing to streams; implementations are\n",
      "allowed to raise an OSError if they do not support a given operation.\n",
      "\n",
      "Extending IOBase is RawIOBase which deals simply with the reading and\n",
      "writing of raw bytes to a stream. FileIO subclasses RawIOBase to provide\n",
      "an interface to OS files.\n",
      "\n",
      "BufferedIOBase deals with buffering on a raw byte stream (RawIOBase). Its\n",
      "subclasses, BufferedWriter, BufferedReader, and BufferedRWPair buffer\n",
      "streams that are readable, writable, and both respectively.\n",
      "BufferedRandom provides a buffered interface to random access\n",
      "streams. BytesIO is a simple stream of in-memory bytes.\n",
      "\n",
      "Another IOBase subclass, TextIOBase, deals with the encoding and decoding\n",
      "of streams into text. TextIOWrapper, which extends it, is a buffered text\n",
      "interface to a buffered raw stream (`BufferedIOBase`). Finally, StringIO\n",
      "is an in-memory stream for text.\n",
      "\n",
      "Argument names are not part of the specification, and only the arguments\n",
      "of open() are intended to be used as keyword arguments.\n",
      "\n",
      "data:\n",
      "\n",
      "DEFAULT_BUFFER_SIZE\n",
      "\n",
      "   An int containing the default buffer size used by the module's buffered\n",
      "   I/O classes. open() uses the file's blksize (as obtained by os.stat) if\n",
      "   possible.\n",
      "\n"
     ]
    }
   ],
   "source": [
    "import io\n",
    "print(io.__doc__)"
   ]
  },
  {
   "cell_type": "code",
   "execution_count": 51,
   "metadata": {},
   "outputs": [
    {
     "name": "stdout",
     "output_type": "stream",
     "text": [
      "C:\\Users\\msi1\\Anaconda3\\lib\\io.py\n"
     ]
    }
   ],
   "source": [
    "print(io.__file__)"
   ]
  },
  {
   "cell_type": "markdown",
   "metadata": {},
   "source": [
    "# Statistics"
   ]
  },
  {
   "cell_type": "code",
   "execution_count": 54,
   "metadata": {},
   "outputs": [
    {
     "name": "stdout",
     "output_type": "stream",
     "text": [
      "141.0909090909091\n",
      "4\n",
      "5\n"
     ]
    }
   ],
   "source": [
    "import statistics\n",
    "\n",
    "l = [1,2,3,44,4,4,567,67,634,5,221]\n",
    "\n",
    "print(statistics.mean(l))\n",
    "print(statistics.mode(l))\n",
    "print(statistics.median(l))"
   ]
  },
  {
   "cell_type": "code",
   "execution_count": 55,
   "metadata": {},
   "outputs": [
    {
     "data": {
      "text/plain": [
       "236.60281255532635"
      ]
     },
     "execution_count": 55,
     "metadata": {},
     "output_type": "execute_result"
    }
   ],
   "source": [
    "l = [1,2,3,44,4,4,567,67,634,5,221]\n",
    "\n",
    "statistics.stdev(l)"
   ]
  },
  {
   "cell_type": "code",
   "execution_count": 56,
   "metadata": {},
   "outputs": [
    {
     "data": {
      "text/plain": [
       "'C:\\\\Users\\\\msi1\\\\Anaconda3\\\\lib\\\\statistics.py'"
      ]
     },
     "execution_count": 56,
     "metadata": {},
     "output_type": "execute_result"
    }
   ],
   "source": [
    "statistics.__file__"
   ]
  },
  {
   "cell_type": "markdown",
   "metadata": {},
   "source": [
    "# Collections"
   ]
  },
  {
   "cell_type": "code",
   "execution_count": 61,
   "metadata": {},
   "outputs": [
    {
     "data": {
      "text/plain": [
       "'Talon'"
      ]
     },
     "execution_count": 61,
     "metadata": {},
     "output_type": "execute_result"
    }
   ],
   "source": [
    "import collections\n",
    "\n",
    "student = collections.namedtuple(\"student\",[\"name\",\"age\",\"marks\"])\n",
    "\n",
    "s1 = student(\"Talon\",24,99)\n",
    "s1.name"
   ]
  },
  {
   "cell_type": "code",
   "execution_count": 65,
   "metadata": {},
   "outputs": [
    {
     "name": "stdout",
     "output_type": "stream",
     "text": [
      "A 65\n",
      "C 67\n",
      "B 66\n",
      "D 68\n"
     ]
    }
   ],
   "source": [
    "#Ordered Dictionary remembers the order in which they were first inserted\n",
    "\n",
    "import collections\n",
    "\n",
    "d1 = collections.OrderedDict()\n",
    "\n",
    "d1['A'] = 65\n",
    "d1['C'] = 67\n",
    "d1['B'] = 66\n",
    "d1['D'] = 68\n",
    "\n",
    "for i,j in d1.items():\n",
    "    print(i,j)"
   ]
  },
  {
   "cell_type": "code",
   "execution_count": 66,
   "metadata": {},
   "outputs": [
    {
     "name": "stdout",
     "output_type": "stream",
     "text": [
      "deque([10, 20, 30, 40])\n"
     ]
    }
   ],
   "source": [
    "#deque\n",
    "#more memory efficient\n",
    "\n",
    "q = collections.deque([10,20,30,40])\n",
    "print(q)"
   ]
  },
  {
   "cell_type": "code",
   "execution_count": 67,
   "metadata": {},
   "outputs": [
    {
     "name": "stdout",
     "output_type": "stream",
     "text": [
      "deque([0, 10, 20, 30, 40])\n"
     ]
    }
   ],
   "source": [
    "q.appendleft(0)\n",
    "print(q)"
   ]
  },
  {
   "cell_type": "code",
   "execution_count": 68,
   "metadata": {},
   "outputs": [
    {
     "name": "stdout",
     "output_type": "stream",
     "text": [
      "deque([0, 10, 20, 30, 40, 50])\n"
     ]
    }
   ],
   "source": [
    "q.append(50)\n",
    "print(q)"
   ]
  },
  {
   "cell_type": "code",
   "execution_count": 69,
   "metadata": {},
   "outputs": [
    {
     "name": "stdout",
     "output_type": "stream",
     "text": [
      "deque([0, 10, 20, 30, 40])\n"
     ]
    }
   ],
   "source": [
    "q.pop()\n",
    "print(q)"
   ]
  },
  {
   "cell_type": "code",
   "execution_count": 70,
   "metadata": {},
   "outputs": [
    {
     "name": "stdout",
     "output_type": "stream",
     "text": [
      "deque([10, 20, 30, 40])\n"
     ]
    }
   ],
   "source": [
    "q.popleft()\n",
    "print(q)"
   ]
  },
  {
   "cell_type": "code",
   "execution_count": 71,
   "metadata": {},
   "outputs": [],
   "source": [
    "import random\n",
    "\n",
    "def add(a,b):\n",
    "    return a+b\n",
    "def sub(a,b):\n",
    "    return a-b\n",
    "def mul(a,b):\n",
    "    return a*b\n",
    "def div(a,b):\n",
    "    return a/b\n",
    "\n",
    "c = random.randint(10,100)"
   ]
  },
  {
   "cell_type": "code",
   "execution_count": 73,
   "metadata": {},
   "outputs": [
    {
     "name": "stdout",
     "output_type": "stream",
     "text": [
      "Calculator at work\n",
      "Enter the first number: 40\n",
      "Enter the second number: 10\n",
      "50 30 400 4.0\n",
      "Random number was: 81\n"
     ]
    }
   ],
   "source": [
    "import test5\n",
    "\n",
    "print(\"Calculator at work\")\n",
    "a = int(input(\"Enter the first number: \"))\n",
    "b = int(input(\"Enter the second number: \"))\n",
    "\n",
    "print(test5.add(a,b),test5.sub(a,b),test5.mul(a,b),test5.div(a,b))\n",
    "print(\"Random number was:\",test5.c)"
   ]
  },
  {
   "cell_type": "code",
   "execution_count": 77,
   "metadata": {},
   "outputs": [],
   "source": [
    "os.chdir(\"c:\\\\Users\\\\msi1\\\\Desktop\\\\Python\\\\Advanced Python\")"
   ]
  },
  {
   "cell_type": "markdown",
   "metadata": {},
   "source": [
    "# Google Text to Speech"
   ]
  },
  {
   "cell_type": "code",
   "execution_count": 79,
   "metadata": {},
   "outputs": [
    {
     "name": "stdout",
     "output_type": "stream",
     "text": [
      "DEBUG:gtts.tts:text: Eventually, my blades will find their way into your heart.\n",
      "DEBUG:gtts.tts:lang: en\n",
      "DEBUG:gtts.tts:slow: False\n",
      "DEBUG:gtts.tts:lang_check: True\n",
      "DEBUG:gtts.tts:pre_processor_funcs: [<function tone_marks at 0x000002C297FB9BF8>, <function end_of_line at 0x000002C2FC57E598>, <function abbreviations at 0x000002C2FC57E620>, <function word_sub at 0x000002C2FC57E6A8>]\n",
      "DEBUG:gtts.tts:tokenizer_func: <bound method Tokenizer.run of re.compile('(?<=\\\\?).|(?<=!).|(?<=？).|(?<=！).|(?<!\\\\.[a-z])\\\\. |(?<!\\\\.[a-z]), |(?<!\\\\d):|\\\\[|،|\\\\\\n|，|…|—|\\\\(|\\\\]|¿|‥|¡|、|;|：|\\\\)|。', re.IGNORECASE) from: [<function tone_marks at 0x000002C2FC57E730>, <function period_comma at 0x000002C2FC57E7B8>, <function colon at 0x000002C2FC57E840>, <function other_punctuation at 0x000002C2FC57E8C8>]>\n",
      "DEBUG:urllib3.connectionpool:Starting new HTTPS connection (1): translate.google.com:443\n",
      "DEBUG:urllib3.connectionpool:https://translate.google.com:443 \"GET / HTTP/1.1\" 200 None\n",
      "DEBUG:urllib3.connectionpool:Starting new HTTPS connection (1): translate.google.com:443\n",
      "DEBUG:urllib3.connectionpool:https://translate.google.com:443 \"GET //translate/releases/twsfe_w_20191008_RC00/r/js/translate_m.js HTTP/1.1\" 200 557050\n",
      "DEBUG:gtts.lang:langs: {'af': 'Afrikaans', 'sq': 'Albanian', 'ar': 'Arabic', 'hy': 'Armenian', 'bn': 'Bengali', 'bs': 'Bosnian', 'ca': 'Catalan', 'hr': 'Croatian', 'cs': 'Czech', 'da': 'Danish', 'nl': 'Dutch', 'en': 'English', 'eo': 'Esperanto', 'et': 'Estonian', 'tl': 'Filipino', 'fi': 'Finnish', 'fr': 'French', 'de': 'German', 'el': 'Greek', 'gu': 'Gujarati', 'hi': 'Hindi', 'hu': 'Hungarian', 'is': 'Icelandic', 'id': 'Indonesian', 'it': 'Italian', 'ja': 'Japanese', 'jw': 'Javanese', 'kn': 'Kannada', 'km': 'Khmer', 'ko': 'Korean', 'la': 'Latin', 'lv': 'Latvian', 'mk': 'Macedonian', 'ml': 'Malayalam', 'mr': 'Marathi', 'my': 'Myanmar (Burmese)', 'ne': 'Nepali', 'no': 'Norwegian', 'pl': 'Polish', 'pt': 'Portuguese', 'ro': 'Romanian', 'ru': 'Russian', 'sr': 'Serbian', 'si': 'Sinhala', 'sk': 'Slovak', 'es': 'Spanish', 'su': 'Sundanese', 'sw': 'Swahili', 'sv': 'Swedish', 'ta': 'Tamil', 'te': 'Telugu', 'th': 'Thai', 'tr': 'Turkish', 'uk': 'Ukrainian', 'ur': 'Urdu', 'vi': 'Vietnamese', 'cy': 'Welsh', 'zh-cn': 'Chinese (Mandarin/China)', 'zh-tw': 'Chinese (Mandarin/Taiwan)', 'en-us': 'English (US)', 'en-ca': 'English (Canada)', 'en-uk': 'English (UK)', 'en-gb': 'English (UK)', 'en-au': 'English (Australia)', 'en-gh': 'English (Ghana)', 'en-in': 'English (India)', 'en-ie': 'English (Ireland)', 'en-nz': 'English (New Zealand)', 'en-ng': 'English (Nigeria)', 'en-ph': 'English (Philippines)', 'en-za': 'English (South Africa)', 'en-tz': 'English (Tanzania)', 'fr-ca': 'French (Canada)', 'fr-fr': 'French (France)', 'pt-br': 'Portuguese (Brazil)', 'pt-pt': 'Portuguese (Portugal)', 'es-es': 'Spanish (Spain)', 'es-us': 'Spanish (United States)'}\n",
      "DEBUG:gtts.tts:pre-processing: <function tone_marks at 0x000002C297FB9BF8>\n",
      "DEBUG:gtts.tts:pre-processing: <function end_of_line at 0x000002C2FC57E598>\n",
      "DEBUG:gtts.tts:pre-processing: <function abbreviations at 0x000002C2FC57E620>\n",
      "DEBUG:gtts.tts:pre-processing: <function word_sub at 0x000002C2FC57E6A8>\n",
      "DEBUG:gtts.tts:text_parts: 1\n",
      "DEBUG:urllib3.connectionpool:Starting new HTTPS connection (1): translate.google.com:443\n",
      "DEBUG:urllib3.connectionpool:https://translate.google.com:443 \"GET / HTTP/1.1\" 200 None\n",
      "DEBUG:gtts.tts:payload-0: {'ie': 'UTF-8', 'q': 'Eventually, my blades will find their way into your heart.', 'tl': 'en', 'ttsspeed': 1, 'total': 1, 'idx': 0, 'client': 'tw-ob', 'textlen': 58, 'tk': '312833.159437'}\n",
      "DEBUG:urllib3.connectionpool:Starting new HTTPS connection (1): translate.google.com:443\n",
      "DEBUG:urllib3.connectionpool:https://translate.google.com:443 \"GET /translate_tts?ie=UTF-8&q=Eventually%2C+my+blades+will+find+their+way+into+your+heart.&tl=en&ttsspeed=1&total=1&idx=0&client=tw-ob&textlen=58&tk=312833.159437 HTTP/1.1\" 200 14496\n",
      "DEBUG:gtts.tts:headers-0: {'User-Agent': 'Mozilla/5.0 (Windows NT 10.0; WOW64) AppleWebKit/537.36 (KHTML, like Gecko) Chrome/47.0.2526.106 Safari/537.36', 'Accept-Encoding': 'gzip, deflate', 'Accept': '*/*', 'Connection': 'keep-alive', 'Referer': 'http://translate.google.com/'}\n",
      "DEBUG:gtts.tts:url-0: https://translate.google.com/translate_tts?ie=UTF-8&q=Eventually%2C+my+blades+will+find+their+way+into+your+heart.&tl=en&ttsspeed=1&total=1&idx=0&client=tw-ob&textlen=58&tk=312833.159437\n",
      "DEBUG:gtts.tts:status-0: 200\n",
      "DEBUG:gtts.tts:part-0 written to <_io.BufferedWriter name='Talon.mp3'>\n",
      "DEBUG:gtts.tts:Saved to Talon.mp3\n",
      "DEBUG:gtts.tts:text: wwwwwwwwwwwwwwwwwwwwwwwwwwwwwwwwwwwwwwwwwwwwwwwwwwwwwwwwwwwwwwwwwwwwwwwwwwwwwwwwwwwwwwwwwwwwwwwwwwwww\n",
      "DEBUG:gtts.tts:lang: en\n",
      "DEBUG:gtts.tts:slow: False\n",
      "DEBUG:gtts.tts:lang_check: True\n",
      "DEBUG:gtts.tts:pre_processor_funcs: [<function tone_marks at 0x000002C297FB9BF8>, <function end_of_line at 0x000002C2FC57E598>, <function abbreviations at 0x000002C2FC57E620>, <function word_sub at 0x000002C2FC57E6A8>]\n",
      "DEBUG:gtts.tts:tokenizer_func: <bound method Tokenizer.run of re.compile('(?<=\\\\?).|(?<=!).|(?<=？).|(?<=！).|(?<!\\\\.[a-z])\\\\. |(?<!\\\\.[a-z]), |(?<!\\\\d):|\\\\[|،|\\\\\\n|，|…|—|\\\\(|\\\\]|¿|‥|¡|、|;|：|\\\\)|。', re.IGNORECASE) from: [<function tone_marks at 0x000002C2FC57E730>, <function period_comma at 0x000002C2FC57E7B8>, <function colon at 0x000002C2FC57E840>, <function other_punctuation at 0x000002C2FC57E8C8>]>\n",
      "DEBUG:urllib3.connectionpool:Starting new HTTPS connection (1): translate.google.com:443\n",
      "DEBUG:urllib3.connectionpool:https://translate.google.com:443 \"GET / HTTP/1.1\" 200 None\n",
      "DEBUG:urllib3.connectionpool:Starting new HTTPS connection (1): translate.google.com:443\n",
      "DEBUG:urllib3.connectionpool:https://translate.google.com:443 \"GET //translate/releases/twsfe_w_20191008_RC00/r/js/translate_m.js HTTP/1.1\" 200 557050\n",
      "DEBUG:gtts.lang:langs: {'af': 'Afrikaans', 'sq': 'Albanian', 'ar': 'Arabic', 'hy': 'Armenian', 'bn': 'Bengali', 'bs': 'Bosnian', 'ca': 'Catalan', 'hr': 'Croatian', 'cs': 'Czech', 'da': 'Danish', 'nl': 'Dutch', 'en': 'English', 'eo': 'Esperanto', 'et': 'Estonian', 'tl': 'Filipino', 'fi': 'Finnish', 'fr': 'French', 'de': 'German', 'el': 'Greek', 'gu': 'Gujarati', 'hi': 'Hindi', 'hu': 'Hungarian', 'is': 'Icelandic', 'id': 'Indonesian', 'it': 'Italian', 'ja': 'Japanese', 'jw': 'Javanese', 'kn': 'Kannada', 'km': 'Khmer', 'ko': 'Korean', 'la': 'Latin', 'lv': 'Latvian', 'mk': 'Macedonian', 'ml': 'Malayalam', 'mr': 'Marathi', 'my': 'Myanmar (Burmese)', 'ne': 'Nepali', 'no': 'Norwegian', 'pl': 'Polish', 'pt': 'Portuguese', 'ro': 'Romanian', 'ru': 'Russian', 'sr': 'Serbian', 'si': 'Sinhala', 'sk': 'Slovak', 'es': 'Spanish', 'su': 'Sundanese', 'sw': 'Swahili', 'sv': 'Swedish', 'ta': 'Tamil', 'te': 'Telugu', 'th': 'Thai', 'tr': 'Turkish', 'uk': 'Ukrainian', 'ur': 'Urdu', 'vi': 'Vietnamese', 'cy': 'Welsh', 'zh-cn': 'Chinese (Mandarin/China)', 'zh-tw': 'Chinese (Mandarin/Taiwan)', 'en-us': 'English (US)', 'en-ca': 'English (Canada)', 'en-uk': 'English (UK)', 'en-gb': 'English (UK)', 'en-au': 'English (Australia)', 'en-gh': 'English (Ghana)', 'en-in': 'English (India)', 'en-ie': 'English (Ireland)', 'en-nz': 'English (New Zealand)', 'en-ng': 'English (Nigeria)', 'en-ph': 'English (Philippines)', 'en-za': 'English (South Africa)', 'en-tz': 'English (Tanzania)', 'fr-ca': 'French (Canada)', 'fr-fr': 'French (France)', 'pt-br': 'Portuguese (Brazil)', 'pt-pt': 'Portuguese (Portugal)', 'es-es': 'Spanish (Spain)', 'es-us': 'Spanish (United States)'}\n",
      "DEBUG:gtts.tts:pre-processing: <function tone_marks at 0x000002C297FB9BF8>\n",
      "DEBUG:gtts.tts:pre-processing: <function end_of_line at 0x000002C2FC57E598>\n",
      "DEBUG:gtts.tts:pre-processing: <function abbreviations at 0x000002C2FC57E620>\n",
      "DEBUG:gtts.tts:pre-processing: <function word_sub at 0x000002C2FC57E6A8>\n",
      "DEBUG:gtts.tts:tokenizing: <bound method Tokenizer.run of re.compile('(?<=\\\\?).|(?<=!).|(?<=？).|(?<=！).|(?<!\\\\.[a-z])\\\\. |(?<!\\\\.[a-z]), |(?<!\\\\d):|\\\\[|،|\\\\\\n|，|…|—|\\\\(|\\\\]|¿|‥|¡|、|;|：|\\\\)|。', re.IGNORECASE) from: [<function tone_marks at 0x000002C2FC57E730>, <function period_comma at 0x000002C2FC57E7B8>, <function colon at 0x000002C2FC57E840>, <function other_punctuation at 0x000002C2FC57E8C8>]>\n",
      "DEBUG:gtts.tts:text_parts: 2\n",
      "DEBUG:urllib3.connectionpool:Starting new HTTPS connection (1): translate.google.com:443\n"
     ]
    },
    {
     "name": "stdout",
     "output_type": "stream",
     "text": [
      "DEBUG:urllib3.connectionpool:https://translate.google.com:443 \"GET / HTTP/1.1\" 200 None\n",
      "DEBUG:gtts.tts:payload-0: {'ie': 'UTF-8', 'q': 'wwwwwwwwwwwwwwwwwwwwwwwwwwwwwwwwwwwwwwwwwwwwwwwwwwwwwwwwwwwwwwwwwwwwwwwwwwwwwwwwwwwwwwwwwwwwwwwwwwww', 'tl': 'en', 'ttsspeed': 1, 'total': 2, 'idx': 0, 'client': 'tw-ob', 'textlen': 100, 'tk': '814737.706141'}\n",
      "DEBUG:urllib3.connectionpool:Starting new HTTPS connection (1): translate.google.com:443\n",
      "DEBUG:urllib3.connectionpool:https://translate.google.com:443 \"GET /translate_tts?ie=UTF-8&q=wwwwwwwwwwwwwwwwwwwwwwwwwwwwwwwwwwwwwwwwwwwwwwwwwwwwwwwwwwwwwwwwwwwwwwwwwwwwwwwwwwwwwwwwwwwwwwwwwwww&tl=en&ttsspeed=1&total=2&idx=0&client=tw-ob&textlen=100&tk=814737.706141 HTTP/1.1\" 200 197184\n",
      "DEBUG:gtts.tts:headers-0: {'User-Agent': 'Mozilla/5.0 (Windows NT 10.0; WOW64) AppleWebKit/537.36 (KHTML, like Gecko) Chrome/47.0.2526.106 Safari/537.36', 'Accept-Encoding': 'gzip, deflate', 'Accept': '*/*', 'Connection': 'keep-alive', 'Referer': 'http://translate.google.com/'}\n",
      "DEBUG:gtts.tts:url-0: https://translate.google.com/translate_tts?ie=UTF-8&q=wwwwwwwwwwwwwwwwwwwwwwwwwwwwwwwwwwwwwwwwwwwwwwwwwwwwwwwwwwwwwwwwwwwwwwwwwwwwwwwwwwwwwwwwwwwwwwwwwwww&tl=en&ttsspeed=1&total=2&idx=0&client=tw-ob&textlen=100&tk=814737.706141\n",
      "DEBUG:gtts.tts:status-0: 200\n",
      "DEBUG:gtts.tts:part-0 written to <_io.BufferedWriter name='w.mp3'>\n",
      "DEBUG:gtts.tts:payload-1: {'ie': 'UTF-8', 'q': 'w', 'tl': 'en', 'ttsspeed': 1, 'total': 2, 'idx': 1, 'client': 'tw-ob', 'textlen': 1, 'tk': '757852.866448'}\n",
      "DEBUG:urllib3.connectionpool:Starting new HTTPS connection (1): translate.google.com:443\n",
      "DEBUG:urllib3.connectionpool:https://translate.google.com:443 \"GET /translate_tts?ie=UTF-8&q=w&tl=en&ttsspeed=1&total=2&idx=1&client=tw-ob&textlen=1&tk=757852.866448 HTTP/1.1\" 200 3744\n",
      "DEBUG:gtts.tts:headers-1: {'User-Agent': 'Mozilla/5.0 (Windows NT 10.0; WOW64) AppleWebKit/537.36 (KHTML, like Gecko) Chrome/47.0.2526.106 Safari/537.36', 'Accept-Encoding': 'gzip, deflate', 'Accept': '*/*', 'Connection': 'keep-alive', 'Referer': 'http://translate.google.com/'}\n",
      "DEBUG:gtts.tts:url-1: https://translate.google.com/translate_tts?ie=UTF-8&q=w&tl=en&ttsspeed=1&total=2&idx=1&client=tw-ob&textlen=1&tk=757852.866448\n",
      "DEBUG:gtts.tts:status-1: 200\n",
      "DEBUG:gtts.tts:part-1 written to <_io.BufferedWriter name='w.mp3'>\n",
      "DEBUG:gtts.tts:Saved to w.mp3\n"
     ]
    }
   ],
   "source": [
    "import gtts,os\n",
    "from gtts import gTTS\n",
    "\n",
    "tts = gTTS(\"Eventually, my blades will find their way into your heart.\")\n",
    "tts.save(\"Talon.mp3\")\n",
    "\n",
    "ttw = gTTS(\"wwwwwwwwwwwwwwwwwwwwwwwwwwwwwwwwwwwwwwwwwwwwwwwwwwwwwwwwwwwwwwwwwwwwwwwwwwwwwwwwwwwwwwwwwwwwwwwwwwwww\")\n",
    "ttw.save(\"w.mp3\")"
   ]
  },
  {
   "cell_type": "code",
   "execution_count": null,
   "metadata": {},
   "outputs": [],
   "source": []
  }
 ],
 "metadata": {
  "kernelspec": {
   "display_name": "Python 3",
   "language": "python",
   "name": "python3"
  },
  "language_info": {
   "codemirror_mode": {
    "name": "ipython",
    "version": 3
   },
   "file_extension": ".py",
   "mimetype": "text/x-python",
   "name": "python",
   "nbconvert_exporter": "python",
   "pygments_lexer": "ipython3",
   "version": "3.7.3"
  }
 },
 "nbformat": 4,
 "nbformat_minor": 2
}
