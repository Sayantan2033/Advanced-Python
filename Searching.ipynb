{
 "cells": [
  {
   "cell_type": "code",
   "execution_count": 6,
   "metadata": {},
   "outputs": [
    {
     "name": "stdout",
     "output_type": "stream",
     "text": [
      "PASTE THE PARAGRAPH/ WRITE THE TEXT :-Python is an interpreted, high-level, general-purpose programming language. Created by Guido van Rossum and first released in 1991, Python's design philosophy emphasizes code readability with its notable use of significant whitespace. Its language constructs and object-oriented approach aim to help programmers write clear, logical code for small and large-scale projects.[28]  Python is dynamically typed and garbage-collected. It supports multiple programming paradigms, including procedural, object-oriented, and functional programming. Python is often described as a \"batteries included\" language due to its comprehensive standard library.[29]\n",
      "\n",
      "Enter the word you want to search:-Python\n",
      "\n",
      "\u001b[44;33mPython\u001b[m is an interpreted, high-level, general-purpose programming language. Created by Guido van Rossum and first released in 1991, \u001b[44;33mPython\u001b[m's design philosophy emphasizes code readability with its notable use of significant whitespace. Its language constructs and object-oriented approach aim to help programmers write clear, logical code for small and large-scale projects.[28]  \u001b[44;33mPython\u001b[m is dynamically typed and garbage-collected. It supports multiple programming paradigms, including procedural, object-oriented, and functional programming. \u001b[44;33mPython\u001b[m is often described as a \"batteries included\" language due to its comprehensive standard library.[29]\n",
      "\n",
      "\n",
      "\u001b[1mNO OF TIMES THE WORD OCCUR :- 3\n"
     ]
    }
   ],
   "source": [
    "text=input('\\033[1m' + 'PASTE THE PARAGRAPH/ WRITE THE TEXT :-')\n",
    "print()\n",
    "count = 0\n",
    "search_word = input('\\033[1m' + 'Enter the word you want to search:-')\n",
    "\n",
    "if search_word in text:\n",
    "    print()\n",
    "    print(text.replace(search_word, '\\033[44;33m{}\\033[m'.format(search_word)))\n",
    "else:\n",
    "    print(\"The word is not in the text\")\n",
    "a = text.split(\" \") \n",
    "\n",
    "for i in range(0, len(a)):\n",
    "    if (search_word == a[i]): \n",
    "            count = count + 1\n",
    "print()\n",
    "print()\n",
    "\n",
    "print ('\\033[1m' + 'NO OF TIMES THE WORD OCCUR :-',count)\n"
   ]
  },
  {
   "cell_type": "code",
   "execution_count": null,
   "metadata": {},
   "outputs": [],
   "source": []
  },
  {
   "cell_type": "code",
   "execution_count": null,
   "metadata": {},
   "outputs": [],
   "source": []
  }
 ],
 "metadata": {
  "kernelspec": {
   "display_name": "Python 3",
   "language": "python",
   "name": "python3"
  },
  "language_info": {
   "codemirror_mode": {
    "name": "ipython",
    "version": 3
   },
   "file_extension": ".py",
   "mimetype": "text/x-python",
   "name": "python",
   "nbconvert_exporter": "python",
   "pygments_lexer": "ipython3",
   "version": "3.7.3"
  }
 },
 "nbformat": 4,
 "nbformat_minor": 2
}
