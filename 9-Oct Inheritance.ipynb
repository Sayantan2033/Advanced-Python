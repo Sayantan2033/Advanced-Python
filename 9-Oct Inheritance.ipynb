{
 "cells": [
  {
   "cell_type": "markdown",
   "metadata": {},
   "source": [
    "# Inheritance "
   ]
  },
  {
   "cell_type": "code",
   "execution_count": 1,
   "metadata": {},
   "outputs": [
    {
     "name": "stdout",
     "output_type": "stream",
     "text": [
      "method of Adata\n",
      "method of Bdata\n"
     ]
    }
   ],
   "source": [
    "class A:    # single inheritance \n",
    "    def Adata(self):\n",
    "        print(\"method of Adata\")\n",
    "class B(A):\n",
    "    def Bdata(self):\n",
    "        print(\"method of Bdata\")\n",
    "obj=B()\n",
    "obj.Adata()\n",
    "obj.Bdata()\n",
    "    "
   ]
  },
  {
   "cell_type": "code",
   "execution_count": 8,
   "metadata": {},
   "outputs": [
    {
     "name": "stdout",
     "output_type": "stream",
     "text": [
      "method of A data\n",
      "method of B data\n",
      "method of C data\n"
     ]
    }
   ],
   "source": [
    "# multilevel inheritance\n",
    "class A:\n",
    "    def Adata(self):\n",
    "        print(\"method of A data\")\n",
    "class B(A):\n",
    "    def Bdata(self):\n",
    "        print(\"method of B data\")\n",
    "class C(B):\n",
    "    def Cdata(self):\n",
    "        print(\"method of C data\")\n",
    "obj=C()\n",
    "obj.Adata()\n",
    "obj.Bdata()\n",
    "obj.Cdata()"
   ]
  },
  {
   "cell_type": "code",
   "execution_count": 13,
   "metadata": {},
   "outputs": [
    {
     "name": "stdout",
     "output_type": "stream",
     "text": [
      "method of A data\n",
      "method of B data\n",
      "method of C data\n"
     ]
    }
   ],
   "source": [
    "# multiple inheritance\n",
    "class A:\n",
    "    def Adata(self):\n",
    "        print(\"method of A data\")\n",
    "class B:\n",
    "    def Bdata(self):\n",
    "        print(\"method of B data\")\n",
    "class C(A,B):\n",
    "    def Cdata(self):\n",
    "        print(\"method of C data\")\n",
    "obj=C()\n",
    "obj.Adata()\n",
    "obj.Bdata()\n",
    "obj.Cdata()"
   ]
  },
  {
   "cell_type": "code",
   "execution_count": 30,
   "metadata": {},
   "outputs": [
    {
     "name": "stdout",
     "output_type": "stream",
     "text": [
      "method of A data\n",
      "method of B data\n"
     ]
    }
   ],
   "source": [
    "#hierarchial\n",
    "class A:    # single inheritance \n",
    "    def Adata(self):\n",
    "        print(\"method of A data\")\n",
    "class B(A):\n",
    "    def Bdata(self):\n",
    "        print(\"method of B data\")\n",
    "class C(A):\n",
    "    def Cdata(self):\n",
    "        print(\"method of C data\")\n",
    "obj=B()\n",
    "obj.Adata()\n",
    "obj.Bdata()\n",
    "#class B is never called whenever we call it it will give result as A is not an attribute in B class\n",
    "\n",
    "\n",
    "\n"
   ]
  },
  {
   "cell_type": "code",
   "execution_count": 32,
   "metadata": {},
   "outputs": [
    {
     "name": "stdout",
     "output_type": "stream",
     "text": [
      "method of A data\n",
      "method of B data\n",
      "method of C data\n",
      "method of D data\n"
     ]
    }
   ],
   "source": [
    "#hybrid\n",
    "class A:\n",
    "    def Adata(self):\n",
    "        print(\"method of A data\")\n",
    "class B(A):\n",
    "    def Bdata(self):\n",
    "        print(\"method of B data\")\n",
    "class C(A):\n",
    "    def Cdata(self):\n",
    "        print(\"method of C data\")\n",
    "class D(B,C):\n",
    "    def Ddata(self):\n",
    "        print(\"method of D data\")\n",
    "obj=D()\n",
    "obj.Adata()\n",
    "obj.Bdata()\n",
    "obj.Cdata()\n",
    "obj.Ddata()\n"
   ]
  },
  {
   "cell_type": "code",
   "execution_count": null,
   "metadata": {},
   "outputs": [],
   "source": []
  }
 ],
 "metadata": {
  "kernelspec": {
   "display_name": "Python 3",
   "language": "python",
   "name": "python3"
  },
  "language_info": {
   "codemirror_mode": {
    "name": "ipython",
    "version": 3
   },
   "file_extension": ".py",
   "mimetype": "text/x-python",
   "name": "python",
   "nbconvert_exporter": "python",
   "pygments_lexer": "ipython3",
   "version": "3.7.3"
  }
 },
 "nbformat": 4,
 "nbformat_minor": 4
}
