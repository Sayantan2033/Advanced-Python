{
 "cells": [
  {
   "cell_type": "markdown",
   "metadata": {},
   "source": [
    "# Error handling"
   ]
  },
  {
   "cell_type": "raw",
   "metadata": {},
   "source": [
    "EOF error is raised when one of the built in functions (input or raw_input) hits an end-of-file condition without reading any data"
   ]
  },
  {
   "cell_type": "code",
   "execution_count": 1,
   "metadata": {},
   "outputs": [
    {
     "name": "stdout",
     "output_type": "stream",
     "text": [
      "Hello\n"
     ]
    },
    {
     "ename": "ZeroDivisionError",
     "evalue": "division by zero",
     "output_type": "error",
     "traceback": [
      "\u001b[1;31m---------------------------------------------------------------------------\u001b[0m",
      "\u001b[1;31mZeroDivisionError\u001b[0m                         Traceback (most recent call last)",
      "\u001b[1;32m<ipython-input-1-bcf569997787>\u001b[0m in \u001b[0;36m<module>\u001b[1;34m\u001b[0m\n\u001b[0;32m      1\u001b[0m \u001b[0mprint\u001b[0m\u001b[1;33m(\u001b[0m\u001b[1;34m\"Hello\"\u001b[0m\u001b[1;33m)\u001b[0m\u001b[1;33m\u001b[0m\u001b[1;33m\u001b[0m\u001b[0m\n\u001b[0;32m      2\u001b[0m \u001b[1;33m\u001b[0m\u001b[0m\n\u001b[1;32m----> 3\u001b[1;33m \u001b[0mc\u001b[0m \u001b[1;33m=\u001b[0m \u001b[1;36m10\u001b[0m\u001b[1;33m/\u001b[0m\u001b[1;36m0\u001b[0m\u001b[1;33m\u001b[0m\u001b[1;33m\u001b[0m\u001b[0m\n\u001b[0m\u001b[0;32m      4\u001b[0m \u001b[0mprint\u001b[0m\u001b[1;33m(\u001b[0m\u001b[0mc\u001b[0m\u001b[1;33m)\u001b[0m\u001b[1;33m\u001b[0m\u001b[1;33m\u001b[0m\u001b[0m\n\u001b[0;32m      5\u001b[0m \u001b[1;33m\u001b[0m\u001b[0m\n",
      "\u001b[1;31mZeroDivisionError\u001b[0m: division by zero"
     ]
    }
   ],
   "source": [
    "print(\"Hello\")\n",
    "\n",
    "c = 10/0\n",
    "print(c)\n",
    "\n",
    "print(\"Goodbye\")"
   ]
  },
  {
   "cell_type": "raw",
   "metadata": {},
   "source": [
    "Types of error:\n",
    "\n",
    "1. Runtime\n",
    "2. Syntax\n",
    "\n",
    "Types of runtime error:\n",
    "1. Type\n",
    "2. Division by zero\n",
    "3. Value error\n",
    "4. Name error\n",
    "5. Attribute error\n",
    "6. EOF\n",
    "7. EOL\n",
    "\n",
    "The last two are mostly in file handling."
   ]
  },
  {
   "cell_type": "markdown",
   "metadata": {},
   "source": [
    "# Methods of exception handling"
   ]
  },
  {
   "cell_type": "code",
   "execution_count": 2,
   "metadata": {},
   "outputs": [
    {
     "name": "stdout",
     "output_type": "stream",
     "text": [
      "Hello\n",
      "division by zero\n"
     ]
    }
   ],
   "source": [
    "#try\n",
    "\n",
    "print(\"Hello\")\n",
    "try:\n",
    "    c = 10/0\n",
    "    print(c)\n",
    "    \n",
    "except Exception as err:\n",
    "    print(err)\n",
    "    \n",
    "else:\n",
    "    print(\"Goodbye\")"
   ]
  },
  {
   "cell_type": "code",
   "execution_count": 3,
   "metadata": {},
   "outputs": [
    {
     "name": "stdout",
     "output_type": "stream",
     "text": [
      "Hello\n",
      "You cannot divide by zero.\n"
     ]
    }
   ],
   "source": [
    "print(\"Hello\")\n",
    "try:\n",
    "    c = 10/0\n",
    "    print(c)\n",
    "    \n",
    "except ZeroDivisionError:\n",
    "    print(\"You cannot divide by zero.\")\n",
    "    \n",
    "else:\n",
    "    print(\"Goodbye\")"
   ]
  },
  {
   "cell_type": "code",
   "execution_count": 4,
   "metadata": {},
   "outputs": [
    {
     "name": "stdout",
     "output_type": "stream",
     "text": [
      "Enter an integer: 3.4\n",
      "Not a valid integer.\n"
     ]
    }
   ],
   "source": [
    "#Value error\n",
    "\n",
    "try:\n",
    "    n = int(input(\"Enter an integer: \"))\n",
    "\n",
    "except ValueError:\n",
    "    print(\"Not a valid integer.\")\n",
    "else:\n",
    "    print(\"You successfully entered an integer.\")"
   ]
  },
  {
   "cell_type": "code",
   "execution_count": 1,
   "metadata": {},
   "outputs": [
    {
     "name": "stdout",
     "output_type": "stream",
     "text": [
      "can only concatenate str (not \"int\") to str\n"
     ]
    }
   ],
   "source": [
    "try:\n",
    "    c = \"5\"+5\n",
    "except Exception as err:\n",
    "    print(err)\n",
    "else:\n",
    "    print(c)"
   ]
  },
  {
   "cell_type": "code",
   "execution_count": 2,
   "metadata": {},
   "outputs": [
    {
     "name": "stdout",
     "output_type": "stream",
     "text": [
      "You cannot add str to int.\n"
     ]
    }
   ],
   "source": [
    "try:\n",
    "    c = \"5\"+5\n",
    "except TypeError:\n",
    "    print(\"You cannot add str to int.\")\n",
    "else:\n",
    "    print(c)"
   ]
  },
  {
   "cell_type": "code",
   "execution_count": 3,
   "metadata": {},
   "outputs": [
    {
     "name": "stdout",
     "output_type": "stream",
     "text": [
      "Enter value: 10\n",
      "Error: Cannot add outside the parenthesis\n"
     ]
    }
   ],
   "source": [
    "try:\n",
    "    #c = b + 4\n",
    "    c = int(input(\"Enter value: \")+4)+4\n",
    "    print(c)\n",
    "except ValueError:\n",
    "    print(\"Error: You cannot enter string\")\n",
    "except NameError:\n",
    "    print(\"Error: Variable not defined\")\n",
    "except TypeError:\n",
    "    print(\"Error: Cannot add outside the parenthesis\")\n",
    "except Exception as err:\n",
    "    print(err)\n",
    "\n",
    "else:\n",
    "    print(\"Done,\")"
   ]
  },
  {
   "cell_type": "code",
   "execution_count": 4,
   "metadata": {},
   "outputs": [
    {
     "name": "stdout",
     "output_type": "stream",
     "text": [
      "Enter value less than or equal to 5: 10\n",
      "Has to be less than 5.\n"
     ]
    }
   ],
   "source": [
    "#raise\n",
    "\n",
    "c = int(input(\"Enter value less than or equal to 5: \"))\n",
    "\n",
    "try: \n",
    "    if c>5:\n",
    "        raise Exception ((\"Has to be less than 5.\"))\n",
    "except Exception as err:\n",
    "    print(err)\n",
    "    \n",
    "else:\n",
    "    print(\"Finish.\")"
   ]
  },
  {
   "cell_type": "markdown",
   "metadata": {},
   "source": [
    "# File handling"
   ]
  },
  {
   "cell_type": "code",
   "execution_count": 2,
   "metadata": {},
   "outputs": [
    {
     "name": "stdout",
     "output_type": "stream",
     "text": [
      "League is balanced.\n"
     ]
    }
   ],
   "source": [
    "path = \"abc.txt\"\n",
    "\n",
    "file = open(path,\"w\")\n",
    "\n",
    "file.write(\"League is balanced.\")\n",
    "\n",
    "file.close()\n",
    "\n",
    "file = open(path,\"r\")\n",
    "\n",
    "print(file.read())\n",
    "\n",
    "file.close()"
   ]
  },
  {
   "cell_type": "code",
   "execution_count": 3,
   "metadata": {},
   "outputs": [
    {
     "name": "stdout",
     "output_type": "stream",
     "text": [
      "4\n"
     ]
    }
   ],
   "source": [
    "path = \"abc.txt\"\n",
    "\n",
    "file = open(path)\n",
    "\n",
    "file.seek(4)\n",
    "print(file.tell())\n",
    "\n",
    "file.close()"
   ]
  },
  {
   "cell_type": "code",
   "execution_count": 14,
   "metadata": {},
   "outputs": [
    {
     "name": "stdout",
     "output_type": "stream",
     "text": [
      "Python\n",
      "Data Science\n",
      "Machine Learning\n",
      "\n",
      "Python\n",
      "\n"
     ]
    }
   ],
   "source": [
    "path = \"abc.txt\"\n",
    "\n",
    "file = open(path,\"w\")\n",
    "\n",
    "file.writelines(\"Python\\n\")\n",
    "file.writelines(\"Data Science\\n\")\n",
    "file.writelines(\"Machine Learning\\n\")\n",
    "\n",
    "file.close()\n",
    "\n",
    "file = open(path)\n",
    "print(file.read())\n",
    "file.seek(0)\n",
    "print(file.readline())\n",
    "file.close()"
   ]
  },
  {
   "cell_type": "code",
   "execution_count": 15,
   "metadata": {},
   "outputs": [
    {
     "name": "stdout",
     "output_type": "stream",
     "text": [
      "Python\n",
      "Data Science\n",
      "Machine Learning\n"
     ]
    }
   ],
   "source": [
    "path = \"abc.txt\"\n",
    "\n",
    "file = open(path)\n",
    "\n",
    "for i in file.read():\n",
    "    print(i,end=\"\")"
   ]
  },
  {
   "cell_type": "code",
   "execution_count": 16,
   "metadata": {},
   "outputs": [
    {
     "name": "stdout",
     "output_type": "stream",
     "text": [
      "Python\n"
     ]
    }
   ],
   "source": [
    "path = \"abc.txt\"\n",
    "\n",
    "file = open(path)\n",
    "\n",
    "for i in file.readline():\n",
    "    print(i,end=\"\")"
   ]
  },
  {
   "cell_type": "code",
   "execution_count": null,
   "metadata": {},
   "outputs": [],
   "source": [
    "path = \"abc.txt\"\n",
    "\n",
    "file =  open(path,\"w\")\n",
    "\n",
    "file.write(\"Hellp \")"
   ]
  }
 ],
 "metadata": {
  "kernelspec": {
   "display_name": "Python 3",
   "language": "python",
   "name": "python3"
  },
  "language_info": {
   "codemirror_mode": {
    "name": "ipython",
    "version": 3
   },
   "file_extension": ".py",
   "mimetype": "text/x-python",
   "name": "python",
   "nbconvert_exporter": "python",
   "pygments_lexer": "ipython3",
   "version": "3.7.3"
  }
 },
 "nbformat": 4,
 "nbformat_minor": 2
}
