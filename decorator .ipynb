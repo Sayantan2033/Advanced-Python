{
 "cells": [
  {
   "cell_type": "code",
   "execution_count": 1,
   "metadata": {},
   "outputs": [
    {
     "name": "stdout",
     "output_type": "stream",
     "text": [
      "hello , this before function execution \n",
      "this is inside the function\n",
      "this is after function execution\n"
     ]
    }
   ],
   "source": [
    "# decorator\n",
    "# define decorator\n",
    "def hello_decorator(func):\n",
    "    # inner 1 is a wrapper function in\n",
    "    #which the argument is called \n",
    "    # inner function can access the outer local\n",
    "    # function like in the case \"func\"\n",
    "    def inner1():\n",
    "        print(\"hello , this before function execution \")\n",
    "        # calling the actual function now\n",
    "        # inside the wrapper  function\n",
    "        func()\n",
    "        print(\"this is after function execution\")\n",
    "    return inner1\n",
    "# defining a function to be called inside wrapper function\n",
    "\n",
    "def function_to_be_used():\n",
    "    print(\"this is inside the function\")\n",
    "    # passing \"function to be used insoide the\"\n",
    "    # decorator to control its behavior\n",
    "function_to_be_used=hello_decorator(function_to_be_used)\n",
    "# calling the function\n",
    "function_to_be_used()\n",
    "\n",
    " \n",
    "    "
   ]
  },
  {
   "cell_type": "code",
   "execution_count": 3,
   "metadata": {},
   "outputs": [
    {
     "name": "stdout",
     "output_type": "stream",
     "text": [
      "before execution\n",
      "inside the function\n",
      "after execution\n",
      "the sum is= 30\n"
     ]
    }
   ],
   "source": [
    "# option\n",
    "def hello_decorator(func):\n",
    "    def inner1(*args,**kwargs):\n",
    "        print(\"before execution\")\n",
    "        returned_value=func(*args,**kwargs)\n",
    "        print(\"after execution\")\n",
    "        return returned_value\n",
    "    return inner1\n",
    "# adding decorator to the function\n",
    "@hello_decorator\n",
    "def sum_two_number(a,b):\n",
    "    print(\"inside the function\")\n",
    "    return a+b\n",
    "a,b=10,20\n",
    "print(\"the sum is=\",sum_two_number(a,b))"
   ]
  },
  {
   "cell_type": "code",
   "execution_count": null,
   "metadata": {},
   "outputs": [],
   "source": []
  }
 ],
 "metadata": {
  "kernelspec": {
   "display_name": "Python 3",
   "language": "python",
   "name": "python3"
  },
  "language_info": {
   "codemirror_mode": {
    "name": "ipython",
    "version": 3
   },
   "file_extension": ".py",
   "mimetype": "text/x-python",
   "name": "python",
   "nbconvert_exporter": "python",
   "pygments_lexer": "ipython3",
   "version": "3.7.3"
  }
 },
 "nbformat": 4,
 "nbformat_minor": 2
}
