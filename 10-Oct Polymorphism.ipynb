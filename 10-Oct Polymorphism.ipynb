{
 "cells": [
  {
   "cell_type": "markdown",
   "metadata": {},
   "source": [
    "# Polymorphism"
   ]
  },
  {
   "cell_type": "code",
   "execution_count": 9,
   "metadata": {},
   "outputs": [
    {
     "name": "stdout",
     "output_type": "stream",
     "text": [
      "Father: General Du Couteao\n",
      "Son: Talon Du Couteao\n",
      "Daughter: Katarina Du Couteao\n",
      "Age: 40\n",
      "Age: 23\n"
     ]
    }
   ],
   "source": [
    "class father:\n",
    "    def __init__(self,first_name,second_name,age):\n",
    "        self.name = first_name\n",
    "        self.surname = second_name\n",
    "        self.age = age\n",
    "    def say_details(self):\n",
    "        print(\"Father: \"+self.name+\" \"+self.surname)\n",
    "    def say_age(self):\n",
    "        print(\"Age: \"+str(self.age))\n",
    "class son(father):\n",
    "    def say_details(self):\n",
    "        print(\"Son: \"+self.name+\" \"+self.surname)\n",
    "        \n",
    "class daughter(father):\n",
    "    def say_details(self):\n",
    "        print(\"Daughter: \"+self.name+\" \"+self.surname)\n",
    "        \n",
    "obj1 = father(\"General\",\"Du Couteao\",40)\n",
    "obj2 = son(\"Talon\",\"Du Couteao\",23)\n",
    "obj3 = daughter(\"Katarina\",\"Du Couteao\",26)\n",
    "\n",
    "obj1.say_details()\n",
    "obj2.say_details()\n",
    "obj3.say_details()\n",
    "obj1.say_age()\n",
    "obj2.say_age()"
   ]
  },
  {
   "cell_type": "markdown",
   "metadata": {},
   "source": [
    "# Overriding and Overloading"
   ]
  },
  {
   "cell_type": "code",
   "execution_count": 10,
   "metadata": {},
   "outputs": [
    {
     "name": "stdout",
     "output_type": "stream",
     "text": [
      "Hi I'm Rajat\n",
      "Hi I'm Sayantan\n"
     ]
    }
   ],
   "source": [
    "class rajat:\n",
    "    def x(self):\n",
    "        print(\"Hi I'm Rajat\")\n",
    "        \n",
    "class sayantan:\n",
    "    def x(self):\n",
    "        print(\"Hi I'm Sayantan\")\n",
    "        \n",
    "obj = rajat()\n",
    "obj.x()\n",
    "obj = sayantan()\n",
    "obj.x()"
   ]
  },
  {
   "cell_type": "code",
   "execution_count": 13,
   "metadata": {},
   "outputs": [
    {
     "name": "stdout",
     "output_type": "stream",
     "text": [
      "6\n"
     ]
    }
   ],
   "source": [
    "#Python does not support classic overloading\n",
    "\n",
    "class talon:\n",
    "    def add(self,x,y):\n",
    "        return x+y\n",
    "    def add(self,x,y,z):\n",
    "        return x+y+z\n",
    "    \n",
    "x = talon()\n",
    "#print(x.add(1,2)) this won't work because it got overloaded\n",
    "print(x.add(1,2,3))"
   ]
  },
  {
   "cell_type": "code",
   "execution_count": null,
   "metadata": {},
   "outputs": [],
   "source": []
  }
 ],
 "metadata": {
  "kernelspec": {
   "display_name": "Python 3",
   "language": "python",
   "name": "python3"
  },
  "language_info": {
   "codemirror_mode": {
    "name": "ipython",
    "version": 3
   },
   "file_extension": ".py",
   "mimetype": "text/x-python",
   "name": "python",
   "nbconvert_exporter": "python",
   "pygments_lexer": "ipython3",
   "version": "3.7.3"
  }
 },
 "nbformat": 4,
 "nbformat_minor": 2
}
