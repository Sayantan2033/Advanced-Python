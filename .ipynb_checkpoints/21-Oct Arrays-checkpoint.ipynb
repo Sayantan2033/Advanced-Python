{
 "cells": [
  {
   "cell_type": "markdown",
   "metadata": {},
   "source": [
    "# Arrays"
   ]
  },
  {
   "cell_type": "code",
   "execution_count": 2,
   "metadata": {},
   "outputs": [
    {
     "name": "stdout",
     "output_type": "stream",
     "text": [
      "Array with rank 1: [1 2 3 4 5]\n",
      "Array with rank 2: [[1 2 3]\n",
      " [4 5 6]]\n",
      "Array created using passed tuple:  [1 2 3 4 5]\n"
     ]
    }
   ],
   "source": [
    "import numpy as np\n",
    "\n",
    "#creating a rank 1 array\n",
    "arr = np.array([1,2,3,4,5])\n",
    "\n",
    "print(\"Array with rank 1:\", arr)\n",
    "\n",
    "#creating rank 2 array\n",
    "arr = np.array([[1,2,3],\n",
    "                [4,5,6]])\n",
    "\n",
    "print(\"Array with rank 2:\", arr)\n",
    "\n",
    "#creating an array from tuple\n",
    "arr = np.array((1,2,3,4,5))\n",
    "print(\"Array created using passed tuple: \", arr)"
   ]
  },
  {
   "cell_type": "code",
   "execution_count": 3,
   "metadata": {},
   "outputs": [
    {
     "name": "stdout",
     "output_type": "stream",
     "text": [
      "Adding 1 to every element [[2 3]\n",
      " [4 5]]\n",
      "Subtracting 2 from every element [[ 2  1]\n",
      " [ 0 -1]]\n",
      "Sum of whole array: 10\n",
      "Sum of two arrays: [[5 5]\n",
      " [5 5]]\n"
     ]
    }
   ],
   "source": [
    "#Basic operations\n",
    "\n",
    "import numpy as np\n",
    "a = np.array([[1,2],\n",
    "              [3,4]])\n",
    "b = np.array([[4,3],\n",
    "             [2,1]])\n",
    "print(\"Adding 1 to every element\", a+1)\n",
    "\n",
    "print(\"Subtracting 2 from every element\", b-2)\n",
    "\n",
    "#Sum of array elements, performing unary operation\n",
    "print(\"Sum of whole array:\", a.sum())\n",
    "\n",
    "#Performing bianry operations\n",
    "print(\"Sum of two arrays:\", a+b)"
   ]
  },
  {
   "cell_type": "code",
   "execution_count": 4,
   "metadata": {},
   "outputs": [
    {
     "name": "stdout",
     "output_type": "stream",
     "text": [
      "[1 2 3]\n"
     ]
    }
   ],
   "source": [
    "#Single dimension array\n",
    "\n",
    "import numpy as np\n",
    "\n",
    "a = np.array([1,2,3])\n",
    "print(a)"
   ]
  },
  {
   "cell_type": "code",
   "execution_count": 5,
   "metadata": {},
   "outputs": [
    {
     "name": "stdout",
     "output_type": "stream",
     "text": [
      "[[1 2 3]\n",
      " [4 5 6]\n",
      " [7 8 9]]\n"
     ]
    }
   ],
   "source": [
    "#Multidimension array\n",
    "\n",
    "a = np.array([[1,2,3],[4,5,6],[7,8,9]])\n",
    "print(a)"
   ]
  },
  {
   "cell_type": "code",
   "execution_count": 11,
   "metadata": {},
   "outputs": [
    {
     "name": "stdout",
     "output_type": "stream",
     "text": [
      "28000\n",
      "4000\n"
     ]
    }
   ],
   "source": [
    "import numpy as np\n",
    "import time\n",
    "import sys\n",
    "\n",
    "s = range(1000)\n",
    "print(sys.getsizeof(5)*len(s))\n",
    "\n",
    "D = np.arange(1000)\n",
    "print(D.size*D.itemsize)"
   ]
  },
  {
   "cell_type": "code",
   "execution_count": 13,
   "metadata": {},
   "outputs": [
    {
     "name": "stdout",
     "output_type": "stream",
     "text": [
      "9\n",
      "(3, 3)\n"
     ]
    }
   ],
   "source": [
    "#Shape\n",
    "\n",
    "import numpy as np\n",
    "a = np.array([(1,2,3),(4,5,6),(7,8,9)])\n",
    "\n",
    "print(a.size)\n",
    "print(a.shape)"
   ]
  },
  {
   "cell_type": "code",
   "execution_count": 18,
   "metadata": {},
   "outputs": [
    {
     "name": "stdout",
     "output_type": "stream",
     "text": [
      "28\n"
     ]
    }
   ],
   "source": [
    "import numpy as np\n",
    "\n",
    "a = np.array([(\"Talon\",\"Zed\",\"Orianna\")])\n",
    "print(a.itemsize)"
   ]
  },
  {
   "cell_type": "code",
   "execution_count": 33,
   "metadata": {},
   "outputs": [
    {
     "name": "stdout",
     "output_type": "stream",
     "text": [
      "[2 4 7]\n"
     ]
    }
   ],
   "source": [
    "#Slicing\n",
    "\n",
    "a = np.array([[1,2,3,4],[3,4,5,6],[6,7,8,9]])\n",
    "print(a[0:,1])"
   ]
  },
  {
   "cell_type": "code",
   "execution_count": 2,
   "metadata": {},
   "outputs": [
    {
     "name": "stdout",
     "output_type": "stream",
     "text": [
      "[0 1 2]\n"
     ]
    }
   ],
   "source": [
    "#Slicing with arange\n",
    "#arange stands for array range and can take the dtype as a parameter\n",
    "\n",
    "import numpy as np\n",
    "\n",
    "a = np.arange(10,dtype=np.int32)\n",
    "print(a[0:3])"
   ]
  },
  {
   "cell_type": "code",
   "execution_count": 7,
   "metadata": {},
   "outputs": [
    {
     "name": "stdout",
     "output_type": "stream",
     "text": [
      "[[1 2 3 4 5 6 7 8]]\n",
      "[[ 1  2  3  4  5  6  7  8]\n",
      " [ 9 10 11 12 13 14 15 16]]\n",
      "[[ 9 10 11 12 13 14 15 16]]\n",
      "[ 3 11]\n"
     ]
    }
   ],
   "source": [
    "#Slicing in a multidimensional array\n",
    "\n",
    "a = np.array([(1,2,3,4,5,6,7,8),\n",
    "              (9,10,11,12,13,14,15,16)])\n",
    "\n",
    "print(a[::2]) #doesnt give the second row\n",
    "print(a[0:2]) #Prints the whole array\n",
    "print(a[1:5:1]) #prints 1 to 5 but skips 1\n",
    "print(a[0:,2]) #returns index 2 of each row"
   ]
  },
  {
   "cell_type": "code",
   "execution_count": 8,
   "metadata": {},
   "outputs": [
    {
     "name": "stdout",
     "output_type": "stream",
     "text": [
      "int32\n"
     ]
    }
   ],
   "source": [
    "#dtype\n",
    "\n",
    "import numpy as np\n",
    "\n",
    "a = np.array([1,2,3,4])\n",
    "print(a.dtype)"
   ]
  },
  {
   "cell_type": "code",
   "execution_count": 9,
   "metadata": {},
   "outputs": [
    {
     "name": "stdout",
     "output_type": "stream",
     "text": [
      "float64\n"
     ]
    }
   ],
   "source": [
    "a = np.array([1,2,3,4.0])\n",
    "print(a.dtype)"
   ]
  },
  {
   "cell_type": "code",
   "execution_count": 12,
   "metadata": {},
   "outputs": [
    {
     "name": "stdout",
     "output_type": "stream",
     "text": [
      "<U32\n"
     ]
    }
   ],
   "source": [
    "a = np.array([1,2,3,4.0,\"Talon\"])\n",
    "print(a.dtype)"
   ]
  },
  {
   "cell_type": "code",
   "execution_count": 14,
   "metadata": {},
   "outputs": [
    {
     "name": "stdout",
     "output_type": "stream",
     "text": [
      "5\n",
      "(1, 5)\n"
     ]
    }
   ],
   "source": [
    "#Shape\n",
    "\n",
    "a = np.array([(1,6,7,8,9)])\n",
    "\n",
    "print(a.size)\n",
    "print(a.shape)"
   ]
  },
  {
   "cell_type": "code",
   "execution_count": 16,
   "metadata": {},
   "outputs": [
    {
     "name": "stdout",
     "output_type": "stream",
     "text": [
      "3 1 6\n"
     ]
    }
   ],
   "source": [
    "#max min sum\n",
    "\n",
    "a = np.array([1,2,3])\n",
    "\n",
    "print(a.max(), a.min(), a.sum())"
   ]
  },
  {
   "cell_type": "code",
   "execution_count": 17,
   "metadata": {},
   "outputs": [
    {
     "name": "stdout",
     "output_type": "stream",
     "text": [
      "[[1 2 3]\n",
      " [4 5 6]]\n",
      "[[1.         1.41421356 1.73205081]\n",
      " [2.         2.23606798 2.44948974]]\n",
      "1.707825127659933\n",
      "(2, 3)\n"
     ]
    }
   ],
   "source": [
    "#Root and Standard Deviation\n",
    "\n",
    "import numpy as np\n",
    "\n",
    "a = np.array([(1,2,3),(4,5,6)])\n",
    "print(a)\n",
    "print(np.sqrt(a))\n",
    "print(np.std(a))\n",
    "print(a.shape)"
   ]
  },
  {
   "cell_type": "code",
   "execution_count": 20,
   "metadata": {},
   "outputs": [
    {
     "name": "stdout",
     "output_type": "stream",
     "text": [
      "[[1 2]\n",
      " [3 4]\n",
      " [5 6]]\n",
      "[[1]\n",
      " [2]\n",
      " [3]\n",
      " [4]\n",
      " [5]\n",
      " [6]]\n",
      "[[1 2 3 4 5 6]]\n"
     ]
    }
   ],
   "source": [
    "#Reshape\n",
    "\n",
    "import numpy as np\n",
    "\n",
    "a = np.array([(1,2,3),(4,5,6)])\n",
    "\n",
    "a = a.reshape(3,2)\n",
    "print(a)\n",
    "\n",
    "a = a.reshape(6,1)\n",
    "print(a)\n",
    "\n",
    "a = a.reshape(1,6)\n",
    "print(a)"
   ]
  },
  {
   "cell_type": "code",
   "execution_count": 4,
   "metadata": {},
   "outputs": [
    {
     "name": "stdout",
     "output_type": "stream",
     "text": [
      "[[1 2 3]\n",
      " [4 5 6]]\n",
      "[[1 2]\n",
      " [3 4]\n",
      " [5 6]]\n"
     ]
    }
   ],
   "source": [
    "#Resize\n",
    "#The difference is that reshape is temporary, whereas resize is permanent\n",
    "\n",
    "import numpy as np\n",
    "\n",
    "a = np.array([(1,2,3),(4,5,6)])\n",
    "print(a)\n",
    "\n",
    "a.resize(3,2)\n",
    "print(a)"
   ]
  },
  {
   "cell_type": "code",
   "execution_count": 21,
   "metadata": {},
   "outputs": [
    {
     "name": "stdout",
     "output_type": "stream",
     "text": [
      "[[1 2 3]\n",
      " [4 5 6]\n",
      " [1 2 3]\n",
      " [4 5 6]]\n",
      "[[1 2 3 1 2 3]\n",
      " [4 5 6 4 5 6]]\n"
     ]
    }
   ],
   "source": [
    "#Stack\n",
    "\n",
    "import numpy as np \n",
    "\n",
    "a = np.array([(1,2,3),(4,5,6)])\n",
    "b = np.array([(1,2,3),(4,5,6)])\n",
    "\n",
    "print(np.vstack((a,b))) #vertical stacking\n",
    "print(np.hstack((a,b))) #horizontal stacking"
   ]
  },
  {
   "cell_type": "code",
   "execution_count": 22,
   "metadata": {},
   "outputs": [
    {
     "name": "stdout",
     "output_type": "stream",
     "text": [
      "[[1 2 3]\n",
      " [4 5 6]]\n",
      "[1 2 3 4 5 6]\n"
     ]
    }
   ],
   "source": [
    "#Ravel\n",
    "\n",
    "x = np.array([(1,2,3),(4,5,6)])\n",
    "\n",
    "print(x)\n",
    "print(x.ravel()) #Collapses the array into a single dimension"
   ]
  },
  {
   "cell_type": "code",
   "execution_count": 23,
   "metadata": {},
   "outputs": [
    {
     "name": "stdout",
     "output_type": "stream",
     "text": [
      "[ 2.71828183  7.3890561  20.08553692]\n"
     ]
    }
   ],
   "source": [
    "#exp\n",
    "\n",
    "a = np.array([1,2,3])\n",
    "print(np.exp(a)) #prints e^i for i in a"
   ]
  },
  {
   "cell_type": "markdown",
   "metadata": {},
   "source": [
    "## Difference between no copy and view copy"
   ]
  },
  {
   "cell_type": "code",
   "execution_count": 8,
   "metadata": {},
   "outputs": [
    {
     "name": "stdout",
     "output_type": "stream",
     "text": [
      "[1 2 3 4 5 6] 1782712123600\n",
      "[1 2 3 4 5 6] 1782712123600\n",
      "[[1 2]\n",
      " [3 4]\n",
      " [5 6]]\n",
      "[[1 2]\n",
      " [3 4]\n",
      " [5 6]]\n"
     ]
    }
   ],
   "source": [
    "#no copy\n",
    "\n",
    "a = np.array([1,2,3,4,5,6])\n",
    "print(a,id(a))\n",
    "\n",
    "b = a\n",
    "\n",
    "print(b,id(b))\n",
    "\n",
    "a.resize(3,2)\n",
    "\n",
    "print(a)\n",
    "print(b)\n",
    "\n",
    "#Worked on both arrays because they occupy the same memory location"
   ]
  },
  {
   "cell_type": "raw",
   "metadata": {},
   "source": [
    "View copy is used to make another variable in a different memory location"
   ]
  },
  {
   "cell_type": "code",
   "execution_count": 10,
   "metadata": {},
   "outputs": [
    {
     "name": "stdout",
     "output_type": "stream",
     "text": [
      "[1 2 3 4 5 6] 1782712124400\n",
      "[1 2 3 4 5 6] 1782712125360\n",
      "[[1 2]\n",
      " [3 4]\n",
      " [5 6]]\n",
      "[1 2 3 4 5 6]\n"
     ]
    }
   ],
   "source": [
    "#view copy\n",
    "\n",
    "a = np.array([1,2,3,4,5,6])\n",
    "print(a,id(a))\n",
    "\n",
    "b = a.view()\n",
    "\n",
    "print(b,id(b))\n",
    "\n",
    "a.resize(3,2)\n",
    "\n",
    "print(a)\n",
    "print(b)\n",
    "\n",
    "#Changes to a do not get transferred to b"
   ]
  },
  {
   "cell_type": "code",
   "execution_count": null,
   "metadata": {},
   "outputs": [],
   "source": []
  }
 ],
 "metadata": {
  "kernelspec": {
   "display_name": "Python 3",
   "language": "python",
   "name": "python3"
  },
  "language_info": {
   "codemirror_mode": {
    "name": "ipython",
    "version": 3
   },
   "file_extension": ".py",
   "mimetype": "text/x-python",
   "name": "python",
   "nbconvert_exporter": "python",
   "pygments_lexer": "ipython3",
   "version": "3.7.3"
  }
 },
 "nbformat": 4,
 "nbformat_minor": 2
}
